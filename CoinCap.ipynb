{
 "cells": [
  {
   "cell_type": "markdown",
   "id": "822fe6f7",
   "metadata": {},
   "source": [
    "GOOGLE NEWS API"
   ]
  },
  {
   "cell_type": "code",
   "execution_count": 14,
   "id": "4c5f0334",
   "metadata": {},
   "outputs": [
    {
     "data": {
      "text/plain": [
       "{'message': 'You have exceeded the MONTHLY quota for Requests on your current plan, BASIC. Upgrade your plan at https://rapidapi.com/bfd-id/api/google-news13'}"
      ]
     },
     "execution_count": 14,
     "metadata": {},
     "output_type": "execute_result"
    }
   ],
   "source": [
    "import pandas as pd\n",
    "from dotenv import load_dotenv\n",
    "import os\n",
    "import requests\n",
    "from datetime import datetime, timedelta\n",
    "pd.set_option('display.max_rows', None)\n",
    "pd.set_option('display.max_columns', None)\n",
    "\n",
    "url = \"https://google-news13.p.rapidapi.com/business\"\n",
    "end_date = datetime.now().strftime(\"%Y-%m-%d\")\n",
    "start_date = datetime(2023, 4, 25).strftime(\"%Y-%m-%d\")\n",
    "\n",
    "headers = {\n",
    "    \"X-RapidAPI-Key\": \"bfb223bae8msh576fcc791025e92p1c8ba2jsn86a7df89cf3f\",\n",
    "    \"X-RapidAPI-Host\": \"google-news13.p.rapidapi.com\"\n",
    "}\n",
    "\n",
    "my_parameters = {\n",
    "    \"lr\": \"en-US\",\n",
    "    \"keyword\": 'bitcoin',\n",
    "    \"from\":start_date,\n",
    "    \"to\":end_date}\n",
    "\n",
    "\n",
    "response = requests.get(url, headers=headers, params=my_parameters)\n",
    "\n",
    "data=response.json()\n",
    "data\n",
    "#df = pd.DataFrame(data)\n",
    "#df"
   ]
  },
  {
   "cell_type": "markdown",
   "id": "96a59316",
   "metadata": {},
   "source": [
    "NEWS API"
   ]
  },
  {
   "cell_type": "code",
   "execution_count": 32,
   "id": "c48eb94a",
   "metadata": {},
   "outputs": [],
   "source": [
    "import requests\n",
    "import pandas as pd\n",
    "from dotenv import load_dotenv\n",
    "import os\n",
    "\n",
    "load_dotenv()\n",
    "api_key = os.getenv(\"API_KEY\")"
   ]
  },
  {
   "cell_type": "code",
   "execution_count": 35,
   "id": "9b815ff6",
   "metadata": {},
   "outputs": [],
   "source": [
    "my_key = \"0b738d8c7d6d41a3802c85b973afc872\""
   ]
  },
  {
   "cell_type": "code",
   "execution_count": 36,
   "id": "1dd30bf8",
   "metadata": {},
   "outputs": [],
   "source": [
    "url_bitcoin_headlines = \"http://newsapi.org/v2/everything\""
   ]
  },
  {
   "cell_type": "code",
   "execution_count": 52,
   "id": "30ab487b",
   "metadata": {},
   "outputs": [],
   "source": [
    "parameters = {\"q\":\"+bitcoin\"} "
   ]
  },
  {
   "cell_type": "code",
   "execution_count": 53,
   "id": "aa838271",
   "metadata": {},
   "outputs": [],
   "source": [
    "headers = {\"X-Api-Key\": my_key}"
   ]
  },
  {
   "cell_type": "code",
   "execution_count": 54,
   "id": "e9924e88",
   "metadata": {},
   "outputs": [],
   "source": [
    "response = requests.get(\n",
    "    url=url_bitcoin_headlines, \n",
    "    params=parameters, \n",
    "    headers=headers\n",
    ")"
   ]
  },
  {
   "cell_type": "code",
   "execution_count": 55,
   "id": "a81425ba",
   "metadata": {},
   "outputs": [
    {
     "data": {
      "text/plain": [
       "426"
      ]
     },
     "execution_count": 55,
     "metadata": {},
     "output_type": "execute_result"
    }
   ],
   "source": [
    "response.status_code"
   ]
  },
  {
   "cell_type": "code",
   "execution_count": 49,
   "id": "568ddb97",
   "metadata": {},
   "outputs": [],
   "source": [
    "data = response.json()"
   ]
  },
  {
   "cell_type": "code",
   "execution_count": 50,
   "id": "ae9bcda7",
   "metadata": {},
   "outputs": [
    {
     "data": {
      "text/plain": [
       "{'status': 'error',\n",
       " 'code': 'apiKeyMissing',\n",
       " 'message': 'Your API key is missing. Append this to the URL with the apiKey param, or use the x-api-key HTTP header.'}"
      ]
     },
     "execution_count": 50,
     "metadata": {},
     "output_type": "execute_result"
    }
   ],
   "source": [
    "data"
   ]
  },
  {
   "cell_type": "code",
   "execution_count": 43,
   "id": "b4e0fef3",
   "metadata": {},
   "outputs": [],
   "source": [
    "articles = data.get(\"articles\")"
   ]
  },
  {
   "cell_type": "code",
   "execution_count": 44,
   "id": "e9b5890d",
   "metadata": {},
   "outputs": [],
   "source": [
    "df = pd.DataFrame(articles)"
   ]
  },
  {
   "cell_type": "code",
   "execution_count": 45,
   "id": "45507019",
   "metadata": {},
   "outputs": [
    {
     "data": {
      "text/plain": [
       "(0, 0)"
      ]
     },
     "execution_count": 45,
     "metadata": {},
     "output_type": "execute_result"
    }
   ],
   "source": [
    "df.shape"
   ]
  },
  {
   "cell_type": "code",
   "execution_count": 36,
   "id": "19af502d",
   "metadata": {},
   "outputs": [
    {
     "name": "stdout",
     "output_type": "stream",
     "text": [
      "Enter start date (YYYY-MM-DD): 2024-04-23\n",
      "Enter end date (YYYY-MM-DD): 2024-04-24\n"
     ]
    },
    {
     "data": {
      "text/html": [
       "<div>\n",
       "<style scoped>\n",
       "    .dataframe tbody tr th:only-of-type {\n",
       "        vertical-align: middle;\n",
       "    }\n",
       "\n",
       "    .dataframe tbody tr th {\n",
       "        vertical-align: top;\n",
       "    }\n",
       "\n",
       "    .dataframe thead th {\n",
       "        text-align: right;\n",
       "    }\n",
       "</style>\n",
       "<table border=\"1\" class=\"dataframe\">\n",
       "  <thead>\n",
       "    <tr style=\"text-align: right;\">\n",
       "      <th></th>\n",
       "      <th>source</th>\n",
       "      <th>author</th>\n",
       "      <th>title</th>\n",
       "      <th>description</th>\n",
       "      <th>url</th>\n",
       "      <th>urlToImage</th>\n",
       "      <th>publishedAt</th>\n",
       "      <th>content</th>\n",
       "    </tr>\n",
       "  </thead>\n",
       "  <tbody>\n",
       "    <tr>\n",
       "      <th>0</th>\n",
       "      <td>{'id': None, 'name': 'Forbes'}</td>\n",
       "      <td>Korok Ray, Contributor, \\n Korok Ray, Contribu...</td>\n",
       "      <td>Diving Into Bitcoin's Difficulty Adjustment</td>\n",
       "      <td>Bitcoin difficulty has a cap on its adjustment...</td>\n",
       "      <td>https://www.forbes.com/sites/digital-assets/20...</td>\n",
       "      <td>https://imageio.forbes.com/specials-images/ima...</td>\n",
       "      <td>2024-04-23T16:04:30Z</td>\n",
       "      <td>Photo Illustration by Pavlo Gonchar\\r\\nSOPA Im...</td>\n",
       "    </tr>\n",
       "    <tr>\n",
       "      <th>1</th>\n",
       "      <td>{'id': None, 'name': 'Forbes'}</td>\n",
       "      <td>Billy Bambrough, Senior Contributor, \\n Billy ...</td>\n",
       "      <td>‘Huge Disaster’—Congress Just Introduced A Gam...</td>\n",
       "      <td>A pair of U.S. senators have introduced a new ...</td>\n",
       "      <td>https://www.forbes.com/sites/digital-assets/20...</td>\n",
       "      <td>https://imageio.forbes.com/specials-images/ima...</td>\n",
       "      <td>2024-04-23T12:50:11Z</td>\n",
       "      <td>BitcoinBitcoin\\r\\n has just undergone its late...</td>\n",
       "    </tr>\n",
       "    <tr>\n",
       "      <th>2</th>\n",
       "      <td>{'id': None, 'name': 'CoinDesk'}</td>\n",
       "      <td>Will Canny</td>\n",
       "      <td>Ether ETFs Are Unlikely to Be Approved in May:...</td>\n",
       "      <td>The bank reiterated its year-end bitcoin and e...</td>\n",
       "      <td>https://www.coindesk.com/markets/2024/04/23/et...</td>\n",
       "      <td>https://www.coindesk.com/resizer/8XkD7DM2Zc1x2...</td>\n",
       "      <td>2024-04-23T15:32:27Z</td>\n",
       "      <td>Still, the bank says that the bad news is alre...</td>\n",
       "    </tr>\n",
       "    <tr>\n",
       "      <th>3</th>\n",
       "      <td>{'id': None, 'name': 'CoinDesk'}</td>\n",
       "      <td>Daniel Kuhn</td>\n",
       "      <td>Will Bitcoin’s New BIP Editors Streamline Deve...</td>\n",
       "      <td>Five new editors were added to help speed up t...</td>\n",
       "      <td>https://www.coindesk.com/consensus-magazine/20...</td>\n",
       "      <td>https://www.coindesk.com/resizer/aj1xQStFXBATZ...</td>\n",
       "      <td>2024-04-23T17:34:56Z</td>\n",
       "      <td>Bitcoins open source development is an often h...</td>\n",
       "    </tr>\n",
       "    <tr>\n",
       "      <th>4</th>\n",
       "      <td>{'id': None, 'name': 'Forbes'}</td>\n",
       "      <td>Jeff Rose, Contributor, \\n Jeff Rose, Contribu...</td>\n",
       "      <td>8 Best Investments For 2024</td>\n",
       "      <td>With all the uncertainty in the economy, many ...</td>\n",
       "      <td>https://www.forbes.com/sites/jrose/2024/04/23/...</td>\n",
       "      <td>https://imageio.forbes.com/specials-images/ima...</td>\n",
       "      <td>2024-04-23T17:26:31Z</td>\n",
       "      <td>2024 is already close to being halfway over. T...</td>\n",
       "    </tr>\n",
       "  </tbody>\n",
       "</table>\n",
       "</div>"
      ],
      "text/plain": [
       "                             source  \\\n",
       "0    {'id': None, 'name': 'Forbes'}   \n",
       "1    {'id': None, 'name': 'Forbes'}   \n",
       "2  {'id': None, 'name': 'CoinDesk'}   \n",
       "3  {'id': None, 'name': 'CoinDesk'}   \n",
       "4    {'id': None, 'name': 'Forbes'}   \n",
       "\n",
       "                                              author  \\\n",
       "0  Korok Ray, Contributor, \\n Korok Ray, Contribu...   \n",
       "1  Billy Bambrough, Senior Contributor, \\n Billy ...   \n",
       "2                                         Will Canny   \n",
       "3                                        Daniel Kuhn   \n",
       "4  Jeff Rose, Contributor, \\n Jeff Rose, Contribu...   \n",
       "\n",
       "                                               title  \\\n",
       "0        Diving Into Bitcoin's Difficulty Adjustment   \n",
       "1  ‘Huge Disaster’—Congress Just Introduced A Gam...   \n",
       "2  Ether ETFs Are Unlikely to Be Approved in May:...   \n",
       "3  Will Bitcoin’s New BIP Editors Streamline Deve...   \n",
       "4                        8 Best Investments For 2024   \n",
       "\n",
       "                                         description  \\\n",
       "0  Bitcoin difficulty has a cap on its adjustment...   \n",
       "1  A pair of U.S. senators have introduced a new ...   \n",
       "2  The bank reiterated its year-end bitcoin and e...   \n",
       "3  Five new editors were added to help speed up t...   \n",
       "4  With all the uncertainty in the economy, many ...   \n",
       "\n",
       "                                                 url  \\\n",
       "0  https://www.forbes.com/sites/digital-assets/20...   \n",
       "1  https://www.forbes.com/sites/digital-assets/20...   \n",
       "2  https://www.coindesk.com/markets/2024/04/23/et...   \n",
       "3  https://www.coindesk.com/consensus-magazine/20...   \n",
       "4  https://www.forbes.com/sites/jrose/2024/04/23/...   \n",
       "\n",
       "                                          urlToImage           publishedAt  \\\n",
       "0  https://imageio.forbes.com/specials-images/ima...  2024-04-23T16:04:30Z   \n",
       "1  https://imageio.forbes.com/specials-images/ima...  2024-04-23T12:50:11Z   \n",
       "2  https://www.coindesk.com/resizer/8XkD7DM2Zc1x2...  2024-04-23T15:32:27Z   \n",
       "3  https://www.coindesk.com/resizer/aj1xQStFXBATZ...  2024-04-23T17:34:56Z   \n",
       "4  https://imageio.forbes.com/specials-images/ima...  2024-04-23T17:26:31Z   \n",
       "\n",
       "                                             content  \n",
       "0  Photo Illustration by Pavlo Gonchar\\r\\nSOPA Im...  \n",
       "1  BitcoinBitcoin\\r\\n has just undergone its late...  \n",
       "2  Still, the bank says that the bad news is alre...  \n",
       "3  Bitcoins open source development is an often h...  \n",
       "4  2024 is already close to being halfway over. T...  "
      ]
     },
     "execution_count": 36,
     "metadata": {},
     "output_type": "execute_result"
    }
   ],
   "source": [
    "#https://newsapi.org/docs/endpoints/everything\n",
    "\n",
    "def bitcoinnews():\n",
    "    import requests\n",
    "    import pandas as pd\n",
    "    from dotenv import load_dotenv\n",
    "    import os\n",
    "\n",
    "    load_dotenv()\n",
    "    my_key = \"c3a1a1d1c6b540058013dccd6e62c38b\"\n",
    "    url_bitcoin_headlines = \"http://newsapi.org/v2/everything\"\n",
    "\n",
    "    # Get user input for start_date and end_date\n",
    "    start_date = input(\"Enter start date (YYYY-MM-DD): \")\n",
    "    end_date = input(\"Enter end date (YYYY-MM-DD): \")\n",
    "\n",
    "    parameters = {\"q\": \"+bitcoin\", \"from\": start_date, \"to\": end_date, \"sortBy\":\"relevancy\", \"domains\":\"coindesk.com, bloomberg.com, forbes.com, wsj.com, cnbc.com, ft.com, investing.com, finance.yahoo.com\"} \n",
    "    headers = {\"X-Api-Key\": my_key}\n",
    "    response = requests.get(url=url_bitcoin_headlines, params=parameters, headers=headers)\n",
    "    data = response.json()\n",
    "    articles = data.get(\"articles\")\n",
    "    df = pd.DataFrame(articles)\n",
    "    return df.head()\n",
    "bitcoinnews()"
   ]
  },
  {
   "cell_type": "code",
   "execution_count": null,
   "id": "00d89bb7",
   "metadata": {},
   "outputs": [],
   "source": []
  }
 ],
 "metadata": {
  "kernelspec": {
   "display_name": "Python 3 (ipykernel)",
   "language": "python",
   "name": "python3"
  },
  "language_info": {
   "codemirror_mode": {
    "name": "ipython",
    "version": 3
   },
   "file_extension": ".py",
   "mimetype": "text/x-python",
   "name": "python",
   "nbconvert_exporter": "python",
   "pygments_lexer": "ipython3",
   "version": "3.11.3"
  }
 },
 "nbformat": 4,
 "nbformat_minor": 5
}
